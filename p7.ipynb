{
  "nbformat": 4,
  "nbformat_minor": 0,
  "metadata": {
    "colab": {
      "provenance": []
    },
    "kernelspec": {
      "name": "python3",
      "display_name": "Python 3"
    },
    "language_info": {
      "name": "python"
    }
  },
  "cells": [
    {
      "cell_type": "code",
      "execution_count": 1,
      "metadata": {
        "colab": {
          "base_uri": "https://localhost:8080/"
        },
        "id": "Gyqd1isrmGhw",
        "outputId": "73ff64ce-f4b9-4e99-e607-6da12f385af7"
      },
      "outputs": [
        {
          "output_type": "stream",
          "name": "stdout",
          "text": [
            "              precision    recall  f1-score   support\n",
            "\n",
            "           0       0.55      0.32      0.40        19\n",
            "           1       0.32      0.55      0.40        11\n",
            "\n",
            "    accuracy                           0.40        30\n",
            "   macro avg       0.43      0.43      0.40        30\n",
            "weighted avg       0.46      0.40      0.40        30\n",
            "\n"
          ]
        }
      ],
      "source": [
        "import numpy as np\n",
        "import pandas as pd\n",
        "import matplotlib.pyplot as plt\n",
        "from sklearn.model_selection import train_test_split\n",
        "from sklearn.neighbors import KNeighborsClassifier\n",
        "from sklearn.metrics import classification_report\n",
        "\n",
        "# Generate a synthetic dataset\n",
        "np.random.seed(0)\n",
        "data = np.random.rand(100, 10)\n",
        "labels = np.random.randint(0, 2, 100)\n",
        "\n",
        "# Create a DataFrame for better data manipulation\n",
        "df = pd.DataFrame(data, columns=['f1', 'f2', 'f3', 'f4', 'f5', 'f6', 'f7', 'f8', 'f9', 'f10'])\n",
        "df['label'] = labels\n",
        "\n",
        "# Split the dataset into training and testing sets\n",
        "X_train, X_test, y_train, y_test = train_test_split(df.drop('label', axis=1), df['label'], test_size=0.3, random_state=0)\n",
        "\n",
        "# Implement KNN Algorithm\n",
        "knn = KNeighborsClassifier(n_neighbors=5)\n",
        "knn.fit(X_train, y_train)\n",
        "\n",
        "# Detect Anomalies\n",
        "y_pred = knn.predict(X_test)\n",
        "\n",
        "# Print classification report to evaluate the model's performance\n",
        "print(classification_report(y_test, y_pred))\n",
        "\n",
        "# Calculate Maximum Acceptance Distance\n",
        "# This step requires a validation dataset and testing different distance thresholds\n",
        "# It is not included in this example due to the lack of a validation dataset\n",
        "\n",
        "# Factors Affecting Distance in KNN\n",
        "# The choice of distance metric, feature scaling, and the number of neighbors (k) considered can affect the distance value\n",
        "# You can experiment with different settings to find the optimal configuration for your dataset"
      ]
    }
  ]
}